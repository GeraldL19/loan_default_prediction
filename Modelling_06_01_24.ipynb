{
  "cells": [
    {
      "cell_type": "markdown",
      "metadata": {
        "id": "view-in-github",
        "colab_type": "text"
      },
      "source": [
        "<a href=\"https://colab.research.google.com/github/GeraldL19/loan_default_prediction/blob/main/Modelling_06_01_24.ipynb\" target=\"_parent\"><img src=\"https://colab.research.google.com/assets/colab-badge.svg\" alt=\"Open In Colab\"/></a>"
      ]
    },
    {
      "cell_type": "code",
      "execution_count": null,
      "metadata": {
        "id": "v7gHcqQVYG2h"
      },
      "outputs": [],
      "source": [
        "import pandas as pd\n",
        "\n",
        "from sklearn.model_selection import train_test_split, GridSearchCV, RandomizedSearchCV\n",
        "from sklearn.preprocessing import LabelEncoder, StandardScaler\n",
        "\n",
        "#Metrics\n",
        "from sklearn.metrics import accuracy_score, confusion_matrix, precision_score, recall_score, ConfusionMatrixDisplay, classification_report, f1_score , fbeta_score\n",
        "\n",
        "# Models\n",
        "from sklearn.linear_model import LogisticRegression\n",
        "from sklearn.ensemble import RandomForestClassifier, GradientBoostingClassifier\n",
        "from sklearn.tree import DecisionTreeClassifier\n",
        "from sklearn.neighbors import KNeighborsClassifier\n",
        "from sklearn.naive_bayes import GaussianNB\n",
        "from sklearn.svm import SVC\n",
        "from xgboost import XGBClassifier\n",
        "from lightgbm import LGBMClassifier\n",
        "\n",
        "#Imbalance\n",
        "from imblearn.combine import *\n",
        "from imblearn.over_sampling import SMOTE\n",
        "from imblearn.under_sampling import RandomUnderSampler"
      ]
    },
    {
      "cell_type": "code",
      "execution_count": null,
      "metadata": {
        "colab": {
          "base_uri": "https://localhost:8080/",
          "height": 444
        },
        "id": "XwUUrev2Xblj",
        "outputId": "9276bd71-5e6f-430a-e02f-e25ca10a6ee4"
      },
      "outputs": [
        {
          "data": {
            "text/html": [
              "\n",
              "  <div id=\"df-266887e4-422c-4a1c-aa5d-29b3eb4292c9\" class=\"colab-df-container\">\n",
              "    <div>\n",
              "<style scoped>\n",
              "    .dataframe tbody tr th:only-of-type {\n",
              "        vertical-align: middle;\n",
              "    }\n",
              "\n",
              "    .dataframe tbody tr th {\n",
              "        vertical-align: top;\n",
              "    }\n",
              "\n",
              "    .dataframe thead th {\n",
              "        text-align: right;\n",
              "    }\n",
              "</style>\n",
              "<table border=\"1\" class=\"dataframe\">\n",
              "  <thead>\n",
              "    <tr style=\"text-align: right;\">\n",
              "      <th></th>\n",
              "      <th>person_age</th>\n",
              "      <th>person_income</th>\n",
              "      <th>person_home_ownership</th>\n",
              "      <th>person_emp_length</th>\n",
              "      <th>loan_intent</th>\n",
              "      <th>loan_grade</th>\n",
              "      <th>loan_amnt</th>\n",
              "      <th>loan_int_rate</th>\n",
              "      <th>loan_percent_income</th>\n",
              "      <th>cb_person_default_on_file</th>\n",
              "      <th>cb_person_cred_hist_length</th>\n",
              "      <th>loan_status</th>\n",
              "    </tr>\n",
              "  </thead>\n",
              "  <tbody>\n",
              "    <tr>\n",
              "      <th>0</th>\n",
              "      <td>24.0</td>\n",
              "      <td>49000.0</td>\n",
              "      <td>RENT</td>\n",
              "      <td>8.0</td>\n",
              "      <td>DEBTCONSOLIDATION</td>\n",
              "      <td>D</td>\n",
              "      <td>4400.0</td>\n",
              "      <td>16.770000</td>\n",
              "      <td>0.09</td>\n",
              "      <td>Y</td>\n",
              "      <td>3.0</td>\n",
              "      <td>1</td>\n",
              "    </tr>\n",
              "    <tr>\n",
              "      <th>1</th>\n",
              "      <td>39.0</td>\n",
              "      <td>91992.0</td>\n",
              "      <td>MORTGAGE</td>\n",
              "      <td>0.0</td>\n",
              "      <td>HOMEIMPROVEMENT</td>\n",
              "      <td>A</td>\n",
              "      <td>3350.0</td>\n",
              "      <td>5.420000</td>\n",
              "      <td>0.04</td>\n",
              "      <td>N</td>\n",
              "      <td>11.0</td>\n",
              "      <td>0</td>\n",
              "    </tr>\n",
              "    <tr>\n",
              "      <th>2</th>\n",
              "      <td>29.0</td>\n",
              "      <td>55000.0</td>\n",
              "      <td>MORTGAGE</td>\n",
              "      <td>11.0</td>\n",
              "      <td>PERSONAL</td>\n",
              "      <td>B</td>\n",
              "      <td>4000.0</td>\n",
              "      <td>10.990000</td>\n",
              "      <td>0.07</td>\n",
              "      <td>N</td>\n",
              "      <td>8.0</td>\n",
              "      <td>0</td>\n",
              "    </tr>\n",
              "    <tr>\n",
              "      <th>3</th>\n",
              "      <td>23.0</td>\n",
              "      <td>48600.0</td>\n",
              "      <td>MORTGAGE</td>\n",
              "      <td>7.0</td>\n",
              "      <td>PERSONAL</td>\n",
              "      <td>B</td>\n",
              "      <td>19000.0</td>\n",
              "      <td>11.360000</td>\n",
              "      <td>0.39</td>\n",
              "      <td>N</td>\n",
              "      <td>4.0</td>\n",
              "      <td>0</td>\n",
              "    </tr>\n",
              "    <tr>\n",
              "      <th>4</th>\n",
              "      <td>22.0</td>\n",
              "      <td>50000.0</td>\n",
              "      <td>OWN</td>\n",
              "      <td>4.0</td>\n",
              "      <td>VENTURE</td>\n",
              "      <td>B</td>\n",
              "      <td>16000.0</td>\n",
              "      <td>9.450000</td>\n",
              "      <td>0.32</td>\n",
              "      <td>N</td>\n",
              "      <td>4.0</td>\n",
              "      <td>0</td>\n",
              "    </tr>\n",
              "    <tr>\n",
              "      <th>...</th>\n",
              "      <td>...</td>\n",
              "      <td>...</td>\n",
              "      <td>...</td>\n",
              "      <td>...</td>\n",
              "      <td>...</td>\n",
              "      <td>...</td>\n",
              "      <td>...</td>\n",
              "      <td>...</td>\n",
              "      <td>...</td>\n",
              "      <td>...</td>\n",
              "      <td>...</td>\n",
              "      <td>...</td>\n",
              "    </tr>\n",
              "    <tr>\n",
              "      <th>32403</th>\n",
              "      <td>23.0</td>\n",
              "      <td>55000.0</td>\n",
              "      <td>MORTGAGE</td>\n",
              "      <td>7.0</td>\n",
              "      <td>MEDICAL</td>\n",
              "      <td>A</td>\n",
              "      <td>8000.0</td>\n",
              "      <td>7.490000</td>\n",
              "      <td>0.15</td>\n",
              "      <td>N</td>\n",
              "      <td>4.0</td>\n",
              "      <td>0</td>\n",
              "    </tr>\n",
              "    <tr>\n",
              "      <th>32404</th>\n",
              "      <td>22.0</td>\n",
              "      <td>54800.0</td>\n",
              "      <td>OWN</td>\n",
              "      <td>7.0</td>\n",
              "      <td>EDUCATION</td>\n",
              "      <td>A</td>\n",
              "      <td>8000.0</td>\n",
              "      <td>6.697063</td>\n",
              "      <td>0.15</td>\n",
              "      <td>N</td>\n",
              "      <td>2.0</td>\n",
              "      <td>0</td>\n",
              "    </tr>\n",
              "    <tr>\n",
              "      <th>32405</th>\n",
              "      <td>34.0</td>\n",
              "      <td>87360.0</td>\n",
              "      <td>MORTGAGE</td>\n",
              "      <td>11.0</td>\n",
              "      <td>PERSONAL</td>\n",
              "      <td>B</td>\n",
              "      <td>12000.0</td>\n",
              "      <td>11.110000</td>\n",
              "      <td>0.14</td>\n",
              "      <td>N</td>\n",
              "      <td>5.0</td>\n",
              "      <td>0</td>\n",
              "    </tr>\n",
              "    <tr>\n",
              "      <th>32406</th>\n",
              "      <td>38.0</td>\n",
              "      <td>61000.0</td>\n",
              "      <td>RENT</td>\n",
              "      <td>0.0</td>\n",
              "      <td>EDUCATION</td>\n",
              "      <td>B</td>\n",
              "      <td>1000.0</td>\n",
              "      <td>9.450000</td>\n",
              "      <td>0.02</td>\n",
              "      <td>N</td>\n",
              "      <td>12.0</td>\n",
              "      <td>0</td>\n",
              "    </tr>\n",
              "    <tr>\n",
              "      <th>32407</th>\n",
              "      <td>35.0</td>\n",
              "      <td>54000.0</td>\n",
              "      <td>RENT</td>\n",
              "      <td>1.0</td>\n",
              "      <td>VENTURE</td>\n",
              "      <td>E</td>\n",
              "      <td>15000.0</td>\n",
              "      <td>15.880000</td>\n",
              "      <td>0.28</td>\n",
              "      <td>Y</td>\n",
              "      <td>8.0</td>\n",
              "      <td>1</td>\n",
              "    </tr>\n",
              "  </tbody>\n",
              "</table>\n",
              "<p>32408 rows × 12 columns</p>\n",
              "</div>\n",
              "    <div class=\"colab-df-buttons\">\n",
              "\n",
              "  <div class=\"colab-df-container\">\n",
              "    <button class=\"colab-df-convert\" onclick=\"convertToInteractive('df-266887e4-422c-4a1c-aa5d-29b3eb4292c9')\"\n",
              "            title=\"Convert this dataframe to an interactive table.\"\n",
              "            style=\"display:none;\">\n",
              "\n",
              "  <svg xmlns=\"http://www.w3.org/2000/svg\" height=\"24px\" viewBox=\"0 -960 960 960\">\n",
              "    <path d=\"M120-120v-720h720v720H120Zm60-500h600v-160H180v160Zm220 220h160v-160H400v160Zm0 220h160v-160H400v160ZM180-400h160v-160H180v160Zm440 0h160v-160H620v160ZM180-180h160v-160H180v160Zm440 0h160v-160H620v160Z\"/>\n",
              "  </svg>\n",
              "    </button>\n",
              "\n",
              "  <style>\n",
              "    .colab-df-container {\n",
              "      display:flex;\n",
              "      gap: 12px;\n",
              "    }\n",
              "\n",
              "    .colab-df-convert {\n",
              "      background-color: #E8F0FE;\n",
              "      border: none;\n",
              "      border-radius: 50%;\n",
              "      cursor: pointer;\n",
              "      display: none;\n",
              "      fill: #1967D2;\n",
              "      height: 32px;\n",
              "      padding: 0 0 0 0;\n",
              "      width: 32px;\n",
              "    }\n",
              "\n",
              "    .colab-df-convert:hover {\n",
              "      background-color: #E2EBFA;\n",
              "      box-shadow: 0px 1px 2px rgba(60, 64, 67, 0.3), 0px 1px 3px 1px rgba(60, 64, 67, 0.15);\n",
              "      fill: #174EA6;\n",
              "    }\n",
              "\n",
              "    .colab-df-buttons div {\n",
              "      margin-bottom: 4px;\n",
              "    }\n",
              "\n",
              "    [theme=dark] .colab-df-convert {\n",
              "      background-color: #3B4455;\n",
              "      fill: #D2E3FC;\n",
              "    }\n",
              "\n",
              "    [theme=dark] .colab-df-convert:hover {\n",
              "      background-color: #434B5C;\n",
              "      box-shadow: 0px 1px 3px 1px rgba(0, 0, 0, 0.15);\n",
              "      filter: drop-shadow(0px 1px 2px rgba(0, 0, 0, 0.3));\n",
              "      fill: #FFFFFF;\n",
              "    }\n",
              "  </style>\n",
              "\n",
              "    <script>\n",
              "      const buttonEl =\n",
              "        document.querySelector('#df-266887e4-422c-4a1c-aa5d-29b3eb4292c9 button.colab-df-convert');\n",
              "      buttonEl.style.display =\n",
              "        google.colab.kernel.accessAllowed ? 'block' : 'none';\n",
              "\n",
              "      async function convertToInteractive(key) {\n",
              "        const element = document.querySelector('#df-266887e4-422c-4a1c-aa5d-29b3eb4292c9');\n",
              "        const dataTable =\n",
              "          await google.colab.kernel.invokeFunction('convertToInteractive',\n",
              "                                                    [key], {});\n",
              "        if (!dataTable) return;\n",
              "\n",
              "        const docLinkHtml = 'Like what you see? Visit the ' +\n",
              "          '<a target=\"_blank\" href=https://colab.research.google.com/notebooks/data_table.ipynb>data table notebook</a>'\n",
              "          + ' to learn more about interactive tables.';\n",
              "        element.innerHTML = '';\n",
              "        dataTable['output_type'] = 'display_data';\n",
              "        await google.colab.output.renderOutput(dataTable, element);\n",
              "        const docLink = document.createElement('div');\n",
              "        docLink.innerHTML = docLinkHtml;\n",
              "        element.appendChild(docLink);\n",
              "      }\n",
              "    </script>\n",
              "  </div>\n",
              "\n",
              "\n",
              "<div id=\"df-848a9b4e-5746-416b-8679-0995d73f1cf3\">\n",
              "  <button class=\"colab-df-quickchart\" onclick=\"quickchart('df-848a9b4e-5746-416b-8679-0995d73f1cf3')\"\n",
              "            title=\"Suggest charts\"\n",
              "            style=\"display:none;\">\n",
              "\n",
              "<svg xmlns=\"http://www.w3.org/2000/svg\" height=\"24px\"viewBox=\"0 0 24 24\"\n",
              "     width=\"24px\">\n",
              "    <g>\n",
              "        <path d=\"M19 3H5c-1.1 0-2 .9-2 2v14c0 1.1.9 2 2 2h14c1.1 0 2-.9 2-2V5c0-1.1-.9-2-2-2zM9 17H7v-7h2v7zm4 0h-2V7h2v10zm4 0h-2v-4h2v4z\"/>\n",
              "    </g>\n",
              "</svg>\n",
              "  </button>\n",
              "\n",
              "<style>\n",
              "  .colab-df-quickchart {\n",
              "      --bg-color: #E8F0FE;\n",
              "      --fill-color: #1967D2;\n",
              "      --hover-bg-color: #E2EBFA;\n",
              "      --hover-fill-color: #174EA6;\n",
              "      --disabled-fill-color: #AAA;\n",
              "      --disabled-bg-color: #DDD;\n",
              "  }\n",
              "\n",
              "  [theme=dark] .colab-df-quickchart {\n",
              "      --bg-color: #3B4455;\n",
              "      --fill-color: #D2E3FC;\n",
              "      --hover-bg-color: #434B5C;\n",
              "      --hover-fill-color: #FFFFFF;\n",
              "      --disabled-bg-color: #3B4455;\n",
              "      --disabled-fill-color: #666;\n",
              "  }\n",
              "\n",
              "  .colab-df-quickchart {\n",
              "    background-color: var(--bg-color);\n",
              "    border: none;\n",
              "    border-radius: 50%;\n",
              "    cursor: pointer;\n",
              "    display: none;\n",
              "    fill: var(--fill-color);\n",
              "    height: 32px;\n",
              "    padding: 0;\n",
              "    width: 32px;\n",
              "  }\n",
              "\n",
              "  .colab-df-quickchart:hover {\n",
              "    background-color: var(--hover-bg-color);\n",
              "    box-shadow: 0 1px 2px rgba(60, 64, 67, 0.3), 0 1px 3px 1px rgba(60, 64, 67, 0.15);\n",
              "    fill: var(--button-hover-fill-color);\n",
              "  }\n",
              "\n",
              "  .colab-df-quickchart-complete:disabled,\n",
              "  .colab-df-quickchart-complete:disabled:hover {\n",
              "    background-color: var(--disabled-bg-color);\n",
              "    fill: var(--disabled-fill-color);\n",
              "    box-shadow: none;\n",
              "  }\n",
              "\n",
              "  .colab-df-spinner {\n",
              "    border: 2px solid var(--fill-color);\n",
              "    border-color: transparent;\n",
              "    border-bottom-color: var(--fill-color);\n",
              "    animation:\n",
              "      spin 1s steps(1) infinite;\n",
              "  }\n",
              "\n",
              "  @keyframes spin {\n",
              "    0% {\n",
              "      border-color: transparent;\n",
              "      border-bottom-color: var(--fill-color);\n",
              "      border-left-color: var(--fill-color);\n",
              "    }\n",
              "    20% {\n",
              "      border-color: transparent;\n",
              "      border-left-color: var(--fill-color);\n",
              "      border-top-color: var(--fill-color);\n",
              "    }\n",
              "    30% {\n",
              "      border-color: transparent;\n",
              "      border-left-color: var(--fill-color);\n",
              "      border-top-color: var(--fill-color);\n",
              "      border-right-color: var(--fill-color);\n",
              "    }\n",
              "    40% {\n",
              "      border-color: transparent;\n",
              "      border-right-color: var(--fill-color);\n",
              "      border-top-color: var(--fill-color);\n",
              "    }\n",
              "    60% {\n",
              "      border-color: transparent;\n",
              "      border-right-color: var(--fill-color);\n",
              "    }\n",
              "    80% {\n",
              "      border-color: transparent;\n",
              "      border-right-color: var(--fill-color);\n",
              "      border-bottom-color: var(--fill-color);\n",
              "    }\n",
              "    90% {\n",
              "      border-color: transparent;\n",
              "      border-bottom-color: var(--fill-color);\n",
              "    }\n",
              "  }\n",
              "</style>\n",
              "\n",
              "  <script>\n",
              "    async function quickchart(key) {\n",
              "      const quickchartButtonEl =\n",
              "        document.querySelector('#' + key + ' button');\n",
              "      quickchartButtonEl.disabled = true;  // To prevent multiple clicks.\n",
              "      quickchartButtonEl.classList.add('colab-df-spinner');\n",
              "      try {\n",
              "        const charts = await google.colab.kernel.invokeFunction(\n",
              "            'suggestCharts', [key], {});\n",
              "      } catch (error) {\n",
              "        console.error('Error during call to suggestCharts:', error);\n",
              "      }\n",
              "      quickchartButtonEl.classList.remove('colab-df-spinner');\n",
              "      quickchartButtonEl.classList.add('colab-df-quickchart-complete');\n",
              "    }\n",
              "    (() => {\n",
              "      let quickchartButtonEl =\n",
              "        document.querySelector('#df-848a9b4e-5746-416b-8679-0995d73f1cf3 button');\n",
              "      quickchartButtonEl.style.display =\n",
              "        google.colab.kernel.accessAllowed ? 'block' : 'none';\n",
              "    })();\n",
              "  </script>\n",
              "</div>\n",
              "    </div>\n",
              "  </div>\n"
            ],
            "text/plain": [
              "       person_age  person_income person_home_ownership  person_emp_length  \\\n",
              "0            24.0        49000.0                  RENT                8.0   \n",
              "1            39.0        91992.0              MORTGAGE                0.0   \n",
              "2            29.0        55000.0              MORTGAGE               11.0   \n",
              "3            23.0        48600.0              MORTGAGE                7.0   \n",
              "4            22.0        50000.0                   OWN                4.0   \n",
              "...           ...            ...                   ...                ...   \n",
              "32403        23.0        55000.0              MORTGAGE                7.0   \n",
              "32404        22.0        54800.0                   OWN                7.0   \n",
              "32405        34.0        87360.0              MORTGAGE               11.0   \n",
              "32406        38.0        61000.0                  RENT                0.0   \n",
              "32407        35.0        54000.0                  RENT                1.0   \n",
              "\n",
              "             loan_intent loan_grade  loan_amnt  loan_int_rate  \\\n",
              "0      DEBTCONSOLIDATION          D     4400.0      16.770000   \n",
              "1        HOMEIMPROVEMENT          A     3350.0       5.420000   \n",
              "2               PERSONAL          B     4000.0      10.990000   \n",
              "3               PERSONAL          B    19000.0      11.360000   \n",
              "4                VENTURE          B    16000.0       9.450000   \n",
              "...                  ...        ...        ...            ...   \n",
              "32403            MEDICAL          A     8000.0       7.490000   \n",
              "32404          EDUCATION          A     8000.0       6.697063   \n",
              "32405           PERSONAL          B    12000.0      11.110000   \n",
              "32406          EDUCATION          B     1000.0       9.450000   \n",
              "32407            VENTURE          E    15000.0      15.880000   \n",
              "\n",
              "       loan_percent_income cb_person_default_on_file  \\\n",
              "0                     0.09                         Y   \n",
              "1                     0.04                         N   \n",
              "2                     0.07                         N   \n",
              "3                     0.39                         N   \n",
              "4                     0.32                         N   \n",
              "...                    ...                       ...   \n",
              "32403                 0.15                         N   \n",
              "32404                 0.15                         N   \n",
              "32405                 0.14                         N   \n",
              "32406                 0.02                         N   \n",
              "32407                 0.28                         Y   \n",
              "\n",
              "       cb_person_cred_hist_length  loan_status  \n",
              "0                             3.0            1  \n",
              "1                            11.0            0  \n",
              "2                             8.0            0  \n",
              "3                             4.0            0  \n",
              "4                             4.0            0  \n",
              "...                           ...          ...  \n",
              "32403                         4.0            0  \n",
              "32404                         2.0            0  \n",
              "32405                         5.0            0  \n",
              "32406                        12.0            0  \n",
              "32407                         8.0            1  \n",
              "\n",
              "[32408 rows x 12 columns]"
            ]
          },
          "execution_count": 4,
          "metadata": {},
          "output_type": "execute_result"
        }
      ],
      "source": [
        "#Import clean dataset from GoogleDrive\n",
        "df = pd.read_csv(\"/content/drive/MyDrive/Colab Notebooks/clean_data.csv\", index_col=0)\n",
        "df"
      ]
    },
    {
      "cell_type": "code",
      "execution_count": null,
      "metadata": {
        "id": "M877A8BiXpI-"
      },
      "outputs": [],
      "source": [
        "#Encode categorical values into nnumerical values\n",
        "df = df.replace({'RENT': 0, 'OWN': 1, 'MORTGAGE': 2, 'OTHER': 3})\n",
        "df = df.replace({'PERSONAL': 0, 'EDUCATION': 1, 'MEDICAL': 2, 'VENTURE': 3, 'HOMEIMPROVEMENT': 4, 'DEBTCONSOLIDATION': 5})\n",
        "df = df.replace({'A': 0, 'B': 1, 'C': 2, 'D': 3, 'E': 4, 'F': 5, 'G': 6})\n",
        "df = df.replace({'Y': 0, 'N': 1})"
      ]
    },
    {
      "cell_type": "code",
      "execution_count": null,
      "metadata": {
        "id": "gxKCngV2YG60"
      },
      "outputs": [],
      "source": [
        "# List of numerical column\n",
        "cols_to_norm = ['person_age','person_income','person_emp_length','loan_amnt','loan_int_rate','loan_percent_income','cb_person_cred_hist_length']\n",
        "# Scaling numerical variables\n",
        "df[cols_to_norm] = StandardScaler().fit_transform(df[cols_to_norm])"
      ]
    },
    {
      "cell_type": "code",
      "execution_count": null,
      "metadata": {
        "id": "cbv5s-n49yJa"
      },
      "outputs": [],
      "source": [
        "#Split the datset X independent variables and y dependent variable (target)\n",
        "X = df.drop('loan_status', axis=1)\n",
        "y = df['loan_status']"
      ]
    },
    {
      "cell_type": "markdown",
      "metadata": {
        "id": "GlqGZ1k_P0tT"
      },
      "source": [
        "# Spot Checking Algorithms"
      ]
    },
    {
      "cell_type": "code",
      "execution_count": null,
      "metadata": {
        "colab": {
          "base_uri": "https://localhost:8080/"
        },
        "id": "cDwe6XWRPW1_",
        "outputId": "a37b99db-9c99-46ca-d490-38a6f85b2826"
      },
      "outputs": [
        {
          "name": "stdout",
          "output_type": "stream",
          "text": [
            "Training and evaluating Logistic Regression...\n",
            "Training and evaluating Naive Bayes...\n",
            "Training and evaluating Decision Tree...\n"
          ]
        },
        {
          "name": "stderr",
          "output_type": "stream",
          "text": [
            "<ipython-input-10-856316dbe10d>:36: FutureWarning: The frame.append method is deprecated and will be removed from pandas in a future version. Use pandas.concat instead.\n",
            "  results_df = results_df.append({'Model': model_name, 'Accuracy': accuracy, 'Recall': recall, 'F1 Score': f1, 'F2 Score': f2}, ignore_index=True)\n",
            "<ipython-input-10-856316dbe10d>:36: FutureWarning: The frame.append method is deprecated and will be removed from pandas in a future version. Use pandas.concat instead.\n",
            "  results_df = results_df.append({'Model': model_name, 'Accuracy': accuracy, 'Recall': recall, 'F1 Score': f1, 'F2 Score': f2}, ignore_index=True)\n",
            "<ipython-input-10-856316dbe10d>:36: FutureWarning: The frame.append method is deprecated and will be removed from pandas in a future version. Use pandas.concat instead.\n",
            "  results_df = results_df.append({'Model': model_name, 'Accuracy': accuracy, 'Recall': recall, 'F1 Score': f1, 'F2 Score': f2}, ignore_index=True)\n"
          ]
        },
        {
          "name": "stdout",
          "output_type": "stream",
          "text": [
            "Training and evaluating Random Forest...\n"
          ]
        },
        {
          "name": "stderr",
          "output_type": "stream",
          "text": [
            "<ipython-input-10-856316dbe10d>:36: FutureWarning: The frame.append method is deprecated and will be removed from pandas in a future version. Use pandas.concat instead.\n",
            "  results_df = results_df.append({'Model': model_name, 'Accuracy': accuracy, 'Recall': recall, 'F1 Score': f1, 'F2 Score': f2}, ignore_index=True)\n"
          ]
        },
        {
          "name": "stdout",
          "output_type": "stream",
          "text": [
            "Training and evaluating SVM...\n"
          ]
        },
        {
          "name": "stderr",
          "output_type": "stream",
          "text": [
            "<ipython-input-10-856316dbe10d>:36: FutureWarning: The frame.append method is deprecated and will be removed from pandas in a future version. Use pandas.concat instead.\n",
            "  results_df = results_df.append({'Model': model_name, 'Accuracy': accuracy, 'Recall': recall, 'F1 Score': f1, 'F2 Score': f2}, ignore_index=True)\n"
          ]
        },
        {
          "name": "stdout",
          "output_type": "stream",
          "text": [
            "Training and evaluating XGBoost...\n"
          ]
        },
        {
          "name": "stderr",
          "output_type": "stream",
          "text": [
            "<ipython-input-10-856316dbe10d>:36: FutureWarning: The frame.append method is deprecated and will be removed from pandas in a future version. Use pandas.concat instead.\n",
            "  results_df = results_df.append({'Model': model_name, 'Accuracy': accuracy, 'Recall': recall, 'F1 Score': f1, 'F2 Score': f2}, ignore_index=True)\n"
          ]
        },
        {
          "name": "stdout",
          "output_type": "stream",
          "text": [
            "Training and evaluating Gradient Boosting...\n"
          ]
        },
        {
          "name": "stderr",
          "output_type": "stream",
          "text": [
            "<ipython-input-10-856316dbe10d>:36: FutureWarning: The frame.append method is deprecated and will be removed from pandas in a future version. Use pandas.concat instead.\n",
            "  results_df = results_df.append({'Model': model_name, 'Accuracy': accuracy, 'Recall': recall, 'F1 Score': f1, 'F2 Score': f2}, ignore_index=True)\n"
          ]
        },
        {
          "name": "stdout",
          "output_type": "stream",
          "text": [
            "Training and evaluating LightGBM...\n",
            "[LightGBM] [Info] Number of positive: 4887, number of negative: 17798\n",
            "[LightGBM] [Info] Auto-choosing row-wise multi-threading, the overhead of testing was 0.001047 seconds.\n",
            "You can set `force_row_wise=true` to remove the overhead.\n",
            "And if memory is not enough, you can set `force_col_wise=true`.\n",
            "[LightGBM] [Info] Total Bins 1139\n",
            "[LightGBM] [Info] Number of data points in the train set: 22685, number of used features: 11\n",
            "[LightGBM] [Info] [binary:BoostFromScore]: pavg=0.215429 -> initscore=-1.292507\n",
            "[LightGBM] [Info] Start training from score -1.292507\n",
            "\n",
            "Results:\n",
            "                 Model  Accuracy    Recall  F1 Score  F2 Score\n",
            "0  Logistic Regression  0.847064  0.474330  0.584056  0.512871\n",
            "1          Naive Bayes  0.801707  0.642435  0.594617  0.622414\n",
            "2        Decision Tree  0.887175  0.766015  0.754531  0.761380\n",
            "3        Random Forest  0.931400  0.721036  0.826347  0.759766\n",
            "4                  SVM  0.886866  0.583371  0.700109  0.625061\n",
            "5              XGBoost  0.933457  0.745570  0.835327  0.779054\n",
            "6    Gradient Boosting  0.924817  0.710586  0.810573  0.747467\n",
            "7             LightGBM  0.936542  0.734212  0.839699  0.773058\n"
          ]
        },
        {
          "name": "stderr",
          "output_type": "stream",
          "text": [
            "<ipython-input-10-856316dbe10d>:36: FutureWarning: The frame.append method is deprecated and will be removed from pandas in a future version. Use pandas.concat instead.\n",
            "  results_df = results_df.append({'Model': model_name, 'Accuracy': accuracy, 'Recall': recall, 'F1 Score': f1, 'F2 Score': f2}, ignore_index=True)\n"
          ]
        }
      ],
      "source": [
        "# Split the data into training and testing sets (70/30)\n",
        "X_train, X_test, y_train, y_test = train_test_split(X, y, test_size=0.3, random_state=42)\n",
        "\n",
        "# List of models to try\n",
        "models = {\n",
        "    'Logistic Regression' : LogisticRegression(),\n",
        "    'Naive Bayes' : GaussianNB(),\n",
        "    'Decision Tree': DecisionTreeClassifier(),\n",
        "    'Random Forest': RandomForestClassifier(),\n",
        "    'SVM': SVC(),\n",
        "    'XGBoost': XGBClassifier(),\n",
        "    'Gradient Boosting': GradientBoostingClassifier(),\n",
        "    'LightGBM': LGBMClassifier()\n",
        "}\n",
        "\n",
        "# Initialize a DataFrame to store the results\n",
        "results_df = pd.DataFrame(columns=['Model', 'Accuracy', 'Recall', 'F1 Score', 'F2 Score'])\n",
        "\n",
        "# Train and evaluate each model\n",
        "for model_name, model in models.items():\n",
        "    print(f\"Training and evaluating {model_name}...\")\n",
        "\n",
        "    # Train the model\n",
        "    model.fit(X_train, y_train)\n",
        "\n",
        "    # Make predictions on the test set\n",
        "    y_pred = model.predict(X_test)\n",
        "\n",
        "    # Evaluate the model\n",
        "    accuracy = accuracy_score(y_test, y_pred)\n",
        "    recall = recall_score(y_test, y_pred)\n",
        "    f1 = f1_score(y_test, y_pred)\n",
        "    f2 = fbeta_score(y_test, y_pred, beta=2)\n",
        "\n",
        "    # Append the results to the DataFrame\n",
        "    results_df = results_df.append({'Model': model_name, 'Accuracy': accuracy, 'Recall': recall, 'F1 Score': f1, 'F2 Score': f2}, ignore_index=True)\n",
        "\n",
        "# Display the results DataFrame\n",
        "print(\"\\nResults:\")\n",
        "results_df"
      ]
    },
    {
      "cell_type": "code",
      "execution_count": null,
      "metadata": {
        "colab": {
          "base_uri": "https://localhost:8080/",
          "height": 335
        },
        "id": "hI7ycKd-PWzr",
        "outputId": "77c044cf-6bae-43ad-bbff-2e69594308a6"
      },
      "outputs": [
        {
          "name": "stdout",
          "output_type": "stream",
          "text": [
            "\n",
            "Results:\n"
          ]
        },
        {
          "data": {
            "text/html": [
              "<style type=\"text/css\">\n",
              "#T_ba3b9_row2_col2, #T_ba3b9_row5_col4, #T_ba3b9_row7_col1, #T_ba3b9_row7_col3 {\n",
              "  background-color: yellow;\n",
              "}\n",
              "</style>\n",
              "<table id=\"T_ba3b9\" class=\"dataframe\">\n",
              "  <thead>\n",
              "    <tr>\n",
              "      <th class=\"blank level0\" >&nbsp;</th>\n",
              "      <th id=\"T_ba3b9_level0_col0\" class=\"col_heading level0 col0\" >Model</th>\n",
              "      <th id=\"T_ba3b9_level0_col1\" class=\"col_heading level0 col1\" >Accuracy</th>\n",
              "      <th id=\"T_ba3b9_level0_col2\" class=\"col_heading level0 col2\" >Recall</th>\n",
              "      <th id=\"T_ba3b9_level0_col3\" class=\"col_heading level0 col3\" >F1 Score</th>\n",
              "      <th id=\"T_ba3b9_level0_col4\" class=\"col_heading level0 col4\" >F2 Score</th>\n",
              "    </tr>\n",
              "  </thead>\n",
              "  <tbody>\n",
              "    <tr>\n",
              "      <th id=\"T_ba3b9_level0_row0\" class=\"row_heading level0 row0\" >0</th>\n",
              "      <td id=\"T_ba3b9_row0_col0\" class=\"data row0 col0\" >Logistic Regression</td>\n",
              "      <td id=\"T_ba3b9_row0_col1\" class=\"data row0 col1\" >0.847064</td>\n",
              "      <td id=\"T_ba3b9_row0_col2\" class=\"data row0 col2\" >0.474330</td>\n",
              "      <td id=\"T_ba3b9_row0_col3\" class=\"data row0 col3\" >0.584056</td>\n",
              "      <td id=\"T_ba3b9_row0_col4\" class=\"data row0 col4\" >0.512871</td>\n",
              "    </tr>\n",
              "    <tr>\n",
              "      <th id=\"T_ba3b9_level0_row1\" class=\"row_heading level0 row1\" >1</th>\n",
              "      <td id=\"T_ba3b9_row1_col0\" class=\"data row1 col0\" >Naive Bayes</td>\n",
              "      <td id=\"T_ba3b9_row1_col1\" class=\"data row1 col1\" >0.801707</td>\n",
              "      <td id=\"T_ba3b9_row1_col2\" class=\"data row1 col2\" >0.642435</td>\n",
              "      <td id=\"T_ba3b9_row1_col3\" class=\"data row1 col3\" >0.594617</td>\n",
              "      <td id=\"T_ba3b9_row1_col4\" class=\"data row1 col4\" >0.622414</td>\n",
              "    </tr>\n",
              "    <tr>\n",
              "      <th id=\"T_ba3b9_level0_row2\" class=\"row_heading level0 row2\" >2</th>\n",
              "      <td id=\"T_ba3b9_row2_col0\" class=\"data row2 col0\" >Decision Tree</td>\n",
              "      <td id=\"T_ba3b9_row2_col1\" class=\"data row2 col1\" >0.887175</td>\n",
              "      <td id=\"T_ba3b9_row2_col2\" class=\"data row2 col2\" >0.766015</td>\n",
              "      <td id=\"T_ba3b9_row2_col3\" class=\"data row2 col3\" >0.754531</td>\n",
              "      <td id=\"T_ba3b9_row2_col4\" class=\"data row2 col4\" >0.761380</td>\n",
              "    </tr>\n",
              "    <tr>\n",
              "      <th id=\"T_ba3b9_level0_row3\" class=\"row_heading level0 row3\" >3</th>\n",
              "      <td id=\"T_ba3b9_row3_col0\" class=\"data row3 col0\" >Random Forest</td>\n",
              "      <td id=\"T_ba3b9_row3_col1\" class=\"data row3 col1\" >0.931400</td>\n",
              "      <td id=\"T_ba3b9_row3_col2\" class=\"data row3 col2\" >0.721036</td>\n",
              "      <td id=\"T_ba3b9_row3_col3\" class=\"data row3 col3\" >0.826347</td>\n",
              "      <td id=\"T_ba3b9_row3_col4\" class=\"data row3 col4\" >0.759766</td>\n",
              "    </tr>\n",
              "    <tr>\n",
              "      <th id=\"T_ba3b9_level0_row4\" class=\"row_heading level0 row4\" >4</th>\n",
              "      <td id=\"T_ba3b9_row4_col0\" class=\"data row4 col0\" >SVM</td>\n",
              "      <td id=\"T_ba3b9_row4_col1\" class=\"data row4 col1\" >0.886866</td>\n",
              "      <td id=\"T_ba3b9_row4_col2\" class=\"data row4 col2\" >0.583371</td>\n",
              "      <td id=\"T_ba3b9_row4_col3\" class=\"data row4 col3\" >0.700109</td>\n",
              "      <td id=\"T_ba3b9_row4_col4\" class=\"data row4 col4\" >0.625061</td>\n",
              "    </tr>\n",
              "    <tr>\n",
              "      <th id=\"T_ba3b9_level0_row5\" class=\"row_heading level0 row5\" >5</th>\n",
              "      <td id=\"T_ba3b9_row5_col0\" class=\"data row5 col0\" >XGBoost</td>\n",
              "      <td id=\"T_ba3b9_row5_col1\" class=\"data row5 col1\" >0.933457</td>\n",
              "      <td id=\"T_ba3b9_row5_col2\" class=\"data row5 col2\" >0.745570</td>\n",
              "      <td id=\"T_ba3b9_row5_col3\" class=\"data row5 col3\" >0.835327</td>\n",
              "      <td id=\"T_ba3b9_row5_col4\" class=\"data row5 col4\" >0.779054</td>\n",
              "    </tr>\n",
              "    <tr>\n",
              "      <th id=\"T_ba3b9_level0_row6\" class=\"row_heading level0 row6\" >6</th>\n",
              "      <td id=\"T_ba3b9_row6_col0\" class=\"data row6 col0\" >Gradient Boosting</td>\n",
              "      <td id=\"T_ba3b9_row6_col1\" class=\"data row6 col1\" >0.924817</td>\n",
              "      <td id=\"T_ba3b9_row6_col2\" class=\"data row6 col2\" >0.710586</td>\n",
              "      <td id=\"T_ba3b9_row6_col3\" class=\"data row6 col3\" >0.810573</td>\n",
              "      <td id=\"T_ba3b9_row6_col4\" class=\"data row6 col4\" >0.747467</td>\n",
              "    </tr>\n",
              "    <tr>\n",
              "      <th id=\"T_ba3b9_level0_row7\" class=\"row_heading level0 row7\" >7</th>\n",
              "      <td id=\"T_ba3b9_row7_col0\" class=\"data row7 col0\" >LightGBM</td>\n",
              "      <td id=\"T_ba3b9_row7_col1\" class=\"data row7 col1\" >0.936542</td>\n",
              "      <td id=\"T_ba3b9_row7_col2\" class=\"data row7 col2\" >0.734212</td>\n",
              "      <td id=\"T_ba3b9_row7_col3\" class=\"data row7 col3\" >0.839699</td>\n",
              "      <td id=\"T_ba3b9_row7_col4\" class=\"data row7 col4\" >0.773058</td>\n",
              "    </tr>\n",
              "  </tbody>\n",
              "</table>\n"
            ],
            "text/plain": [
              "<pandas.io.formats.style.Styler at 0x7ae11e20dc60>"
            ]
          },
          "execution_count": 19,
          "metadata": {},
          "output_type": "execute_result"
        }
      ],
      "source": [
        "#Higlight the best performers\n",
        "styled_df = results_df.style.highlight_max(axis=0, color='yellow', subset=['Accuracy', 'Recall', 'F1 Score', 'F2 Score'])\n",
        "# Display the results DataFrame\n",
        "print(\"\\nResults:\")\n",
        "styled_df"
      ]
    },
    {
      "cell_type": "markdown",
      "metadata": {
        "id": "jfaNBgumS_IF"
      },
      "source": [
        "*   Looking at this we can see that XGBoost and LightGBM have the best F2 score at around 77%. Their recall is also pretty similar.\n",
        "*   Random forest also look promising as it has metrix that are balanced and not far behind the 2 best performer.\n",
        "*   Decision Tree has the best recall which is important in our case as we aim to predict if an applicant is at risk of behing rejected. Furthere to this DT is easily interpretable which is good if we want to explain to the applicant why his application might be rejected.\n",
        "\n",
        "We decide to go ahead with this four algorythms to the next stage."
      ]
    },
    {
      "cell_type": "markdown",
      "metadata": {
        "id": "PS4QkTLrWTz-"
      },
      "source": [
        "# Spot Checking Resampling methods"
      ]
    },
    {
      "cell_type": "markdown",
      "metadata": {
        "id": "hzivXDqeV7ku"
      },
      "source": [
        "We can see from the lo recaal that we have imbalance and bias. This is showed by the loa recall % and the much lower F2 score.\n",
        "\n",
        "Therefore we nee to explore ways of dealing with the accuracy paradox.\n",
        "\n",
        "We will experiment with resampling method such as SMOTE, SMOTE and Tomek and algorithm level methods, to help mitigate the bias toward the majority class."
      ]
    },
    {
      "cell_type": "code",
      "execution_count": null,
      "metadata": {
        "id": "UA-n2WasaWyz"
      },
      "outputs": [],
      "source": [
        "# List of models to try\n",
        "models = {\n",
        "    'Random Forest': RandomForestClassifier(),\n",
        "    'Decision Tree': DecisionTreeClassifier(),\n",
        "    'XGBoost': XGBClassifier(),\n",
        "    'LightGBM': LGBMClassifier()\n",
        "}"
      ]
    },
    {
      "cell_type": "markdown",
      "metadata": {
        "id": "atGBDD6OaOZv"
      },
      "source": [
        "# SMOTE"
      ]
    },
    {
      "cell_type": "code",
      "execution_count": null,
      "metadata": {
        "id": "jz6QIGcQV7Nk"
      },
      "outputs": [],
      "source": [
        "#Setting SMOTE\n",
        "over_sampling = SMOTE()\n",
        "\n",
        "#Applying smote to training set\n",
        "X_smote, y_smote = over_sampling.fit_resample(X, y)\n",
        "\n",
        "# Split the data into training and testing sets\n",
        "X_train_smote, X_test_smote, y_train_smote, y_test_smote = train_test_split(X_smote, y_smote, test_size=0.3, random_state=42)"
      ]
    },
    {
      "cell_type": "code",
      "execution_count": null,
      "metadata": {
        "colab": {
          "base_uri": "https://localhost:8080/"
        },
        "id": "2Gl_yJ5US6Bq",
        "outputId": "09653bdc-0b31-447e-8158-8dfb83664c3c"
      },
      "outputs": [
        {
          "name": "stdout",
          "output_type": "stream",
          "text": [
            "Training and evaluating Random Forest...\n"
          ]
        },
        {
          "name": "stderr",
          "output_type": "stream",
          "text": [
            "<ipython-input-22-7987ee602b69>:21: FutureWarning: The frame.append method is deprecated and will be removed from pandas in a future version. Use pandas.concat instead.\n",
            "  results_smote_df = results_smote_df.append({'Model': model_name, 'Accuracy': accuracy_smote, 'Recall': recall_smote, 'F1 Score': f1_smote, 'F2 Score': f2_smote}, ignore_index=True)\n"
          ]
        },
        {
          "name": "stdout",
          "output_type": "stream",
          "text": [
            "Training and evaluating Decision Tree...\n"
          ]
        },
        {
          "name": "stderr",
          "output_type": "stream",
          "text": [
            "<ipython-input-22-7987ee602b69>:21: FutureWarning: The frame.append method is deprecated and will be removed from pandas in a future version. Use pandas.concat instead.\n",
            "  results_smote_df = results_smote_df.append({'Model': model_name, 'Accuracy': accuracy_smote, 'Recall': recall_smote, 'F1 Score': f1_smote, 'F2 Score': f2_smote}, ignore_index=True)\n"
          ]
        },
        {
          "name": "stdout",
          "output_type": "stream",
          "text": [
            "Training and evaluating XGBoost...\n"
          ]
        },
        {
          "name": "stderr",
          "output_type": "stream",
          "text": [
            "<ipython-input-22-7987ee602b69>:21: FutureWarning: The frame.append method is deprecated and will be removed from pandas in a future version. Use pandas.concat instead.\n",
            "  results_smote_df = results_smote_df.append({'Model': model_name, 'Accuracy': accuracy_smote, 'Recall': recall_smote, 'F1 Score': f1_smote, 'F2 Score': f2_smote}, ignore_index=True)\n"
          ]
        },
        {
          "name": "stdout",
          "output_type": "stream",
          "text": [
            "Training and evaluating LightGBM...\n",
            "[LightGBM] [Info] Number of positive: 17741, number of negative: 17707\n",
            "[LightGBM] [Info] Auto-choosing row-wise multi-threading, the overhead of testing was 0.001232 seconds.\n",
            "You can set `force_row_wise=true` to remove the overhead.\n",
            "And if memory is not enough, you can set `force_col_wise=true`.\n",
            "[LightGBM] [Info] Total Bins 1804\n",
            "[LightGBM] [Info] Number of data points in the train set: 35448, number of used features: 11\n",
            "[LightGBM] [Info] [binary:BoostFromScore]: pavg=0.500480 -> initscore=0.001918\n",
            "[LightGBM] [Info] Start training from score 0.001918\n"
          ]
        },
        {
          "name": "stderr",
          "output_type": "stream",
          "text": [
            "<ipython-input-22-7987ee602b69>:21: FutureWarning: The frame.append method is deprecated and will be removed from pandas in a future version. Use pandas.concat instead.\n",
            "  results_smote_df = results_smote_df.append({'Model': model_name, 'Accuracy': accuracy_smote, 'Recall': recall_smote, 'F1 Score': f1_smote, 'F2 Score': f2_smote}, ignore_index=True)\n"
          ]
        }
      ],
      "source": [
        "# Initialize a DataFrame to store the results\n",
        "results_smote_df = pd.DataFrame(columns=['Model', 'Accuracy', 'Recall', 'F1 Score', 'F2 Score'])\n",
        "\n",
        "# Train and evaluate each model\n",
        "for model_name, model in models.items():\n",
        "    print(f\"Training and evaluating {model_name}...\")\n",
        "\n",
        "    # Train the model\n",
        "    model.fit(X_train_smote, y_train_smote)\n",
        "\n",
        "    # Make predictions on the test set\n",
        "    y_pred_smote = model.predict(X_test_smote)\n",
        "\n",
        "    # Evaluate the model\n",
        "    accuracy_smote = accuracy_score(y_test_smote, y_pred_smote)\n",
        "    recall_smote = recall_score(y_test_smote, y_pred_smote)\n",
        "    f1_smote = f1_score(y_test_smote, y_pred_smote)\n",
        "    f2_smote = fbeta_score(y_test_smote, y_pred_smote, beta=2)\n",
        "\n",
        "    # Append the results to the DataFrame\n",
        "    results_smote_df = results_smote_df.append({'Model': model_name, 'Accuracy': accuracy_smote, 'Recall': recall_smote, 'F1 Score': f1_smote, 'F2 Score': f2_smote}, ignore_index=True)"
      ]
    },
    {
      "cell_type": "code",
      "execution_count": null,
      "metadata": {
        "colab": {
          "base_uri": "https://localhost:8080/",
          "height": 210
        },
        "id": "OJvXTjZCS5-V",
        "outputId": "9bd50dcc-ef4d-4acb-dbbe-7d7b777a8598"
      },
      "outputs": [
        {
          "name": "stdout",
          "output_type": "stream",
          "text": [
            "\n",
            "Results:\n"
          ]
        },
        {
          "data": {
            "text/html": [
              "<style type=\"text/css\">\n",
              "#T_bf88f_row2_col1, #T_bf88f_row2_col2, #T_bf88f_row2_col3, #T_bf88f_row2_col4 {\n",
              "  background-color: yellow;\n",
              "}\n",
              "</style>\n",
              "<table id=\"T_bf88f\" class=\"dataframe\">\n",
              "  <thead>\n",
              "    <tr>\n",
              "      <th class=\"blank level0\" >&nbsp;</th>\n",
              "      <th id=\"T_bf88f_level0_col0\" class=\"col_heading level0 col0\" >Model</th>\n",
              "      <th id=\"T_bf88f_level0_col1\" class=\"col_heading level0 col1\" >Accuracy</th>\n",
              "      <th id=\"T_bf88f_level0_col2\" class=\"col_heading level0 col2\" >Recall</th>\n",
              "      <th id=\"T_bf88f_level0_col3\" class=\"col_heading level0 col3\" >F1 Score</th>\n",
              "      <th id=\"T_bf88f_level0_col4\" class=\"col_heading level0 col4\" >F2 Score</th>\n",
              "    </tr>\n",
              "  </thead>\n",
              "  <tbody>\n",
              "    <tr>\n",
              "      <th id=\"T_bf88f_level0_row0\" class=\"row_heading level0 row0\" >0</th>\n",
              "      <td id=\"T_bf88f_row0_col0\" class=\"data row0 col0\" >Random Forest</td>\n",
              "      <td id=\"T_bf88f_row0_col1\" class=\"data row0 col1\" >0.932794</td>\n",
              "      <td id=\"T_bf88f_row0_col2\" class=\"data row0 col2\" >0.894709</td>\n",
              "      <td id=\"T_bf88f_row0_col3\" class=\"data row0 col3\" >0.929987</td>\n",
              "      <td id=\"T_bf88f_row0_col4\" class=\"data row0 col4\" >0.908494</td>\n",
              "    </tr>\n",
              "    <tr>\n",
              "      <th id=\"T_bf88f_level0_row1\" class=\"row_heading level0 row1\" >1</th>\n",
              "      <td id=\"T_bf88f_row1_col0\" class=\"data row1 col0\" >Decision Tree</td>\n",
              "      <td id=\"T_bf88f_row1_col1\" class=\"data row1 col1\" >0.883425</td>\n",
              "      <td id=\"T_bf88f_row1_col2\" class=\"data row1 col2\" >0.885077</td>\n",
              "      <td id=\"T_bf88f_row1_col3\" class=\"data row1 col3\" >0.883387</td>\n",
              "      <td id=\"T_bf88f_row1_col4\" class=\"data row1 col4\" >0.884400</td>\n",
              "    </tr>\n",
              "    <tr>\n",
              "      <th id=\"T_bf88f_level0_row2\" class=\"row_heading level0 row2\" >2</th>\n",
              "      <td id=\"T_bf88f_row2_col0\" class=\"data row2 col0\" >XGBoost</td>\n",
              "      <td id=\"T_bf88f_row2_col1\" class=\"data row2 col1\" >0.948657</td>\n",
              "      <td id=\"T_bf88f_row2_col2\" class=\"data row2 col2\" >0.914633</td>\n",
              "      <td id=\"T_bf88f_row2_col3\" class=\"data row2 col3\" >0.946736</td>\n",
              "      <td id=\"T_bf88f_row2_col4\" class=\"data row2 col4\" >0.927209</td>\n",
              "    </tr>\n",
              "    <tr>\n",
              "      <th id=\"T_bf88f_level0_row3\" class=\"row_heading level0 row3\" >3</th>\n",
              "      <td id=\"T_bf88f_row3_col0\" class=\"data row3 col0\" >LightGBM</td>\n",
              "      <td id=\"T_bf88f_row3_col1\" class=\"data row3 col1\" >0.947407</td>\n",
              "      <td id=\"T_bf88f_row3_col2\" class=\"data row3 col2\" >0.909091</td>\n",
              "      <td id=\"T_bf88f_row3_col3\" class=\"data row3 col3\" >0.945195</td>\n",
              "      <td id=\"T_bf88f_row3_col4\" class=\"data row3 col4\" >0.923196</td>\n",
              "    </tr>\n",
              "  </tbody>\n",
              "</table>\n"
            ],
            "text/plain": [
              "<pandas.io.formats.style.Styler at 0x7ae116b54b20>"
            ]
          },
          "execution_count": 23,
          "metadata": {},
          "output_type": "execute_result"
        }
      ],
      "source": [
        "#Higlight the best performers\n",
        "styled_smote_df = results_smote_df.style.highlight_max(axis=0, color='yellow', subset=['Accuracy', 'Recall', 'F1 Score', 'F2 Score'])\n",
        "# Display the results DataFrame\n",
        "print(\"\\nResults:\")\n",
        "styled_smote_df"
      ]
    },
    {
      "cell_type": "markdown",
      "metadata": {
        "id": "Uykd59ZdaR_o"
      },
      "source": [
        "# SMOTE and Tomek"
      ]
    },
    {
      "cell_type": "code",
      "execution_count": null,
      "metadata": {
        "id": "7UB547rtS58P"
      },
      "outputs": [],
      "source": [
        "#Setting SMOTETomek\n",
        "smt = SMOTETomek(random_state=42)\n",
        "\n",
        "#Applying smotetomek to training set\n",
        "X_smote_tek, y_smote_tek = smt.fit_resample(X, y)\n",
        "\n",
        "# Split the data into training and testing sets\n",
        "X_train_tek, X_test_tek, y_train_tek, y_test_tek = train_test_split(X_smote_tek, y_smote_tek, test_size=0.3, random_state=42)"
      ]
    },
    {
      "cell_type": "code",
      "execution_count": null,
      "metadata": {
        "colab": {
          "base_uri": "https://localhost:8080/"
        },
        "id": "wrQfQr0YPWs4",
        "outputId": "90fffdf7-3e5b-4686-a3d5-252ef64524cb"
      },
      "outputs": [
        {
          "name": "stdout",
          "output_type": "stream",
          "text": [
            "Training and evaluating Random Forest...\n"
          ]
        },
        {
          "name": "stderr",
          "output_type": "stream",
          "text": [
            "<ipython-input-30-a36b1b88fe5f>:21: FutureWarning: The frame.append method is deprecated and will be removed from pandas in a future version. Use pandas.concat instead.\n",
            "  results_tek_df = results_tek_df.append({'Model': model_name, 'Accuracy': accuracy_tek, 'Recall': recall_tek, 'F1 Score': f1_tek, 'F2 Score': f2_tek}, ignore_index=True)\n"
          ]
        },
        {
          "name": "stdout",
          "output_type": "stream",
          "text": [
            "Training and evaluating Decision Tree...\n"
          ]
        },
        {
          "name": "stderr",
          "output_type": "stream",
          "text": [
            "<ipython-input-30-a36b1b88fe5f>:21: FutureWarning: The frame.append method is deprecated and will be removed from pandas in a future version. Use pandas.concat instead.\n",
            "  results_tek_df = results_tek_df.append({'Model': model_name, 'Accuracy': accuracy_tek, 'Recall': recall_tek, 'F1 Score': f1_tek, 'F2 Score': f2_tek}, ignore_index=True)\n"
          ]
        },
        {
          "name": "stdout",
          "output_type": "stream",
          "text": [
            "Training and evaluating XGBoost...\n"
          ]
        },
        {
          "name": "stderr",
          "output_type": "stream",
          "text": [
            "<ipython-input-30-a36b1b88fe5f>:21: FutureWarning: The frame.append method is deprecated and will be removed from pandas in a future version. Use pandas.concat instead.\n",
            "  results_tek_df = results_tek_df.append({'Model': model_name, 'Accuracy': accuracy_tek, 'Recall': recall_tek, 'F1 Score': f1_tek, 'F2 Score': f2_tek}, ignore_index=True)\n"
          ]
        },
        {
          "name": "stdout",
          "output_type": "stream",
          "text": [
            "Training and evaluating LightGBM...\n",
            "[LightGBM] [Info] Number of positive: 17660, number of negative: 17445\n",
            "[LightGBM] [Info] Auto-choosing row-wise multi-threading, the overhead of testing was 0.001226 seconds.\n",
            "You can set `force_row_wise=true` to remove the overhead.\n",
            "And if memory is not enough, you can set `force_col_wise=true`.\n",
            "[LightGBM] [Info] Total Bins 1804\n",
            "[LightGBM] [Info] Number of data points in the train set: 35105, number of used features: 11\n",
            "[LightGBM] [Info] [binary:BoostFromScore]: pavg=0.503062 -> initscore=0.012249\n",
            "[LightGBM] [Info] Start training from score 0.012249\n"
          ]
        },
        {
          "name": "stderr",
          "output_type": "stream",
          "text": [
            "<ipython-input-30-a36b1b88fe5f>:21: FutureWarning: The frame.append method is deprecated and will be removed from pandas in a future version. Use pandas.concat instead.\n",
            "  results_tek_df = results_tek_df.append({'Model': model_name, 'Accuracy': accuracy_tek, 'Recall': recall_tek, 'F1 Score': f1_tek, 'F2 Score': f2_tek}, ignore_index=True)\n"
          ]
        }
      ],
      "source": [
        "# Initialize a DataFrame to store the results\n",
        "results_tek_df = pd.DataFrame(columns=['Model', 'Accuracy', 'Recall', 'F1 Score', 'F2 Score'])\n",
        "\n",
        "# Train and evaluate each model\n",
        "for model_name, model in models.items():\n",
        "    print(f\"Training and evaluating {model_name}...\")\n",
        "\n",
        "    # Train the model\n",
        "    model.fit(X_train_tek, y_train_tek)\n",
        "\n",
        "    # Make predictions on the test set\n",
        "    y_pred_tek = model.predict(X_test_tek)\n",
        "\n",
        "    # Evaluate the model\n",
        "    accuracy_tek= accuracy_score(y_test_tek, y_pred_tek)\n",
        "    recall_tek = recall_score(y_test_tek, y_pred_tek)\n",
        "    f1_tek = f1_score(y_test_tek, y_pred_tek)\n",
        "    f2_tek = fbeta_score(y_test_tek, y_pred_tek, beta=2)\n",
        "\n",
        "    # Append the results to the DataFrame\n",
        "    results_tek_df = results_tek_df.append({'Model': model_name, 'Accuracy': accuracy_tek, 'Recall': recall_tek, 'F1 Score': f1_tek, 'F2 Score': f2_tek}, ignore_index=True)"
      ]
    },
    {
      "cell_type": "code",
      "execution_count": null,
      "metadata": {
        "colab": {
          "base_uri": "https://localhost:8080/",
          "height": 210
        },
        "id": "X8F1QQvEPWqO",
        "outputId": "916bb998-879c-430e-c8a3-e096d4a7d8b8"
      },
      "outputs": [
        {
          "name": "stdout",
          "output_type": "stream",
          "text": [
            "\n",
            "Results:\n"
          ]
        },
        {
          "data": {
            "text/html": [
              "<style type=\"text/css\">\n",
              "#T_fbd74_row2_col1, #T_fbd74_row2_col2, #T_fbd74_row2_col3, #T_fbd74_row2_col4 {\n",
              "  background-color: yellow;\n",
              "}\n",
              "</style>\n",
              "<table id=\"T_fbd74\" class=\"dataframe\">\n",
              "  <thead>\n",
              "    <tr>\n",
              "      <th class=\"blank level0\" >&nbsp;</th>\n",
              "      <th id=\"T_fbd74_level0_col0\" class=\"col_heading level0 col0\" >Model</th>\n",
              "      <th id=\"T_fbd74_level0_col1\" class=\"col_heading level0 col1\" >Accuracy</th>\n",
              "      <th id=\"T_fbd74_level0_col2\" class=\"col_heading level0 col2\" >Recall</th>\n",
              "      <th id=\"T_fbd74_level0_col3\" class=\"col_heading level0 col3\" >F1 Score</th>\n",
              "      <th id=\"T_fbd74_level0_col4\" class=\"col_heading level0 col4\" >F2 Score</th>\n",
              "    </tr>\n",
              "  </thead>\n",
              "  <tbody>\n",
              "    <tr>\n",
              "      <th id=\"T_fbd74_level0_row0\" class=\"row_heading level0 row0\" >0</th>\n",
              "      <td id=\"T_fbd74_row0_col0\" class=\"data row0 col0\" >Random Forest</td>\n",
              "      <td id=\"T_fbd74_row0_col1\" class=\"data row0 col1\" >0.942306</td>\n",
              "      <td id=\"T_fbd74_row0_col2\" class=\"data row0 col2\" >0.912744</td>\n",
              "      <td id=\"T_fbd74_row0_col3\" class=\"data row0 col3\" >0.939739</td>\n",
              "      <td id=\"T_fbd74_row0_col4\" class=\"data row0 col4\" >0.923354</td>\n",
              "    </tr>\n",
              "    <tr>\n",
              "      <th id=\"T_fbd74_level0_row1\" class=\"row_heading level0 row1\" >1</th>\n",
              "      <td id=\"T_fbd74_row1_col0\" class=\"data row1 col0\" >Decision Tree</td>\n",
              "      <td id=\"T_fbd74_row1_col1\" class=\"data row1 col1\" >0.888933</td>\n",
              "      <td id=\"T_fbd74_row1_col2\" class=\"data row1 col2\" >0.897100</td>\n",
              "      <td id=\"T_fbd74_row1_col3\" class=\"data row1 col3\" >0.888414</td>\n",
              "      <td id=\"T_fbd74_row1_col4\" class=\"data row1 col4\" >0.893606</td>\n",
              "    </tr>\n",
              "    <tr>\n",
              "      <th id=\"T_fbd74_level0_row2\" class=\"row_heading level0 row2\" >2</th>\n",
              "      <td id=\"T_fbd74_row2_col0\" class=\"data row2 col0\" >XGBoost</td>\n",
              "      <td id=\"T_fbd74_row2_col1\" class=\"data row2 col1\" >0.954470</td>\n",
              "      <td id=\"T_fbd74_row2_col2\" class=\"data row2 col2\" >0.922454</td>\n",
              "      <td id=\"T_fbd74_row2_col3\" class=\"data row2 col3\" >0.952315</td>\n",
              "      <td id=\"T_fbd74_row2_col4\" class=\"data row2 col4\" >0.934171</td>\n",
              "    </tr>\n",
              "    <tr>\n",
              "      <th id=\"T_fbd74_level0_row3\" class=\"row_heading level0 row3\" >3</th>\n",
              "      <td id=\"T_fbd74_row3_col0\" class=\"data row3 col0\" >LightGBM</td>\n",
              "      <td id=\"T_fbd74_row3_col1\" class=\"data row3 col1\" >0.953141</td>\n",
              "      <td id=\"T_fbd74_row3_col2\" class=\"data row3 col2\" >0.916790</td>\n",
              "      <td id=\"T_fbd74_row3_col3\" class=\"data row3 col3\" >0.950703</td>\n",
              "      <td id=\"T_fbd74_row3_col4\" class=\"data row3 col4\" >0.930061</td>\n",
              "    </tr>\n",
              "  </tbody>\n",
              "</table>\n"
            ],
            "text/plain": [
              "<pandas.io.formats.style.Styler at 0x7ae116eef040>"
            ]
          },
          "execution_count": 31,
          "metadata": {},
          "output_type": "execute_result"
        }
      ],
      "source": [
        "#Higlight the best performers\n",
        "styled_tek_df = results_tek_df.style.highlight_max(axis=0, color='yellow', subset=['Accuracy', 'Recall', 'F1 Score', 'F2 Score'])\n",
        "# Display the results DataFrame\n",
        "print(\"\\nResults:\")\n",
        "styled_tek_df"
      ]
    },
    {
      "cell_type": "markdown",
      "metadata": {
        "id": "PDpC5bHyd4ny"
      },
      "source": [
        "# Cost-Sensitive Decision Trees"
      ]
    },
    {
      "cell_type": "code",
      "execution_count": null,
      "metadata": {
        "id": "I6SDFCeReuY7"
      },
      "outputs": [],
      "source": [
        "# Split the data into training and testing sets\n",
        "X_train_csdt, X_test_csdt, y_train_csdt, y_test_csdt = train_test_split(X, y, test_size=0.3, random_state=42)"
      ]
    },
    {
      "cell_type": "code",
      "execution_count": null,
      "metadata": {
        "id": "YLMnXxehPWlm"
      },
      "outputs": [],
      "source": [
        "# define model\n",
        "csdt = DecisionTreeClassifier(class_weight='balanced')"
      ]
    },
    {
      "cell_type": "code",
      "execution_count": null,
      "metadata": {
        "colab": {
          "base_uri": "https://localhost:8080/"
        },
        "id": "ry3zPs1ePWi1",
        "outputId": "88c65484-19e4-44fa-d971-32b58549cc07"
      },
      "outputs": [
        {
          "name": "stdout",
          "output_type": "stream",
          "text": [
            "Accuracy : 0.9378792553738559\n",
            "Recall : 0.7555656519763744\n",
            "F1 Score : 0.8463104325699745\n",
            "F2 Score : 0.7894237159403779\n",
            "\n"
          ]
        }
      ],
      "source": [
        "# Initialize a DataFrame to store the results\n",
        "results_tek_df = pd.DataFrame(columns=['Model', 'Accuracy', 'Recall', 'F1 Score', 'F2 Score'])\n",
        "\n",
        "# Train the model\n",
        "csdt.fit(X_train_csdt, y_train_csdt)\n",
        "\n",
        "# Make predictions on the test set\n",
        "y_pred_csdt = model.predict(X_test_csdt)\n",
        "\n",
        "# Evaluate the model\n",
        "accuracy_csdt= accuracy_score(y_test_csdt, y_pred_csdt)\n",
        "recall_csdt = recall_score(y_test_csdt, y_pred_csdt)\n",
        "f1_csdt = f1_score(y_test_csdt, y_pred_csdt)\n",
        "f2_csdt = fbeta_score(y_test_csdt, y_pred_csdt, beta=2)\n",
        "\n",
        "print(f'Accuracy : {accuracy_csdt}')\n",
        "print(f'Recall : {recall_csdt}')\n",
        "print(f'F1 Score : {f1_csdt}')\n",
        "print(f'F2 Score : {f2_csdt}\\n')\n",
        "print(f'Confusion Matrix:\\n{conf_matrix_boost}')"
      ]
    },
    {
      "cell_type": "markdown",
      "metadata": {
        "id": "cxgBsnZxnIz4"
      },
      "source": [
        "# RUSBoostClassifier"
      ]
    },
    {
      "cell_type": "code",
      "execution_count": null,
      "metadata": {
        "id": "O6QXFsgJfkcK"
      },
      "outputs": [],
      "source": [
        "from imblearn.ensemble import RUSBoostClassifier"
      ]
    },
    {
      "cell_type": "code",
      "execution_count": null,
      "metadata": {
        "id": "8kv4uuIHgzAr"
      },
      "outputs": [],
      "source": [
        "# Split the data into training and testing sets\n",
        "X_train_rboost, X_test_rboost, y_train_rboost, y_test_rboost = train_test_split(X, y, test_size=0.3, random_state=42)\n",
        "\n",
        "# Create a base decision tree classifier (you can use any classifier)\n",
        "base_classifier = DecisionTreeClassifier()\n",
        "\n",
        "# Create the RUSBoostClassifier\n",
        "rusboost_classifier = RUSBoostClassifier(base_classifier, random_state=42)"
      ]
    },
    {
      "cell_type": "code",
      "execution_count": null,
      "metadata": {
        "colab": {
          "base_uri": "https://localhost:8080/"
        },
        "id": "14oCJPA9gy98",
        "outputId": "42fdf1fb-07fd-4b83-e439-23dfb2be925f"
      },
      "outputs": [
        {
          "name": "stdout",
          "output_type": "stream",
          "text": [
            "Accuracy: 0.8937570708629023\n",
            "Recall : 0.805542935029532\n",
            "F1 Score : 0.7744048918977942\n",
            "F2 Score : 0.7927919871221606\n",
            "\n",
            "Confusion Matrix:\n",
            "[[6917  605]\n",
            " [ 428 1773]]\n"
          ]
        }
      ],
      "source": [
        "# Train the model\n",
        "rusboost_classifier.fit(X_train_rboost, y_train_rboost)\n",
        "\n",
        "# Make predictions on the test set\n",
        "y_pred_rboost = rusboost_classifier.predict(X_test_rboost)\n",
        "\n",
        "# Evaluate the model\n",
        "accuracy_rboost = accuracy_score(y_test_rboost, y_pred_rboost)\n",
        "recall_rboost = recall_score(y_test_rboost, y_pred_rboost)\n",
        "f1_rboost = f1_score(y_test_rboost, y_pred_rboost)\n",
        "f2_rboost = fbeta_score(y_test_rboost, y_pred_rboost, beta=2)\n",
        "conf_matrix_boost = confusion_matrix(y_test_rboost, y_pred_rboost)\n",
        "\n",
        "print(f'Accuracy: {accuracy_rboost}')\n",
        "print(f'Recall : {recall_rboost}')\n",
        "print(f'F1 Score : {f1_rboost}')\n",
        "print(f'F2 Score : {f2_rboost}\\n')\n",
        "print(f'Confusion Matrix:\\n{conf_matrix_boost}')"
      ]
    },
    {
      "cell_type": "code",
      "execution_count": null,
      "metadata": {
        "id": "ICIZ2rlHgy7q"
      },
      "outputs": [],
      "source": []
    },
    {
      "cell_type": "markdown",
      "metadata": {
        "id": "NAssv9pWptmj"
      },
      "source": [
        "# HyperParameter Tuning"
      ]
    },
    {
      "cell_type": "markdown",
      "metadata": {
        "id": "GD0DtmPppwJC"
      },
      "source": [
        "We take the best overall performing algorythms and resampling method and use a randomiser to find the best parameters for the model"
      ]
    },
    {
      "cell_type": "markdown",
      "metadata": {
        "id": "J76b2p1IHoMx"
      },
      "source": [
        "# RandomSearch"
      ]
    },
    {
      "cell_type": "code",
      "execution_count": null,
      "metadata": {
        "id": "An0ugQhiqoid"
      },
      "outputs": [],
      "source": [
        "#Setting SMOTETomek\n",
        "smt = SMOTETomek(random_state=42)\n",
        "\n",
        "#Applying smotetomek to training set\n",
        "X_smote_tek, y_smote_tek = smt.fit_resample(X, y)\n",
        "\n",
        "# Split the data into training and testing sets\n",
        "X_train_tek, X_test_tek, y_train_tek, y_test_tek = train_test_split(X_smote_tek, y_smote_tek, test_size=0.3, random_state=42)"
      ]
    },
    {
      "cell_type": "code",
      "execution_count": null,
      "metadata": {
        "colab": {
          "base_uri": "https://localhost:8080/"
        },
        "id": "wLbH7s6OCobd",
        "outputId": "9583c491-448d-491b-a743-6e195851b0cd"
      },
      "outputs": [
        {
          "name": "stdout",
          "output_type": "stream",
          "text": [
            "Accuracy: 0.9559986706547026\n",
            "Recall : 0.933378287255563\n",
            "F1 Score : 0.954357418643133\n",
            "F2 Score : 0.9416582764156848\n",
            "\n",
            "Confusion Matrix:\n",
            "[[7462  168]\n",
            " [ 494 6921]]\n",
            "Classification Report:\n",
            "              precision    recall  f1-score   support\n",
            "\n",
            "           0       0.94      0.98      0.96      7630\n",
            "           1       0.98      0.93      0.95      7415\n",
            "\n",
            "    accuracy                           0.96     15045\n",
            "   macro avg       0.96      0.96      0.96     15045\n",
            "weighted avg       0.96      0.96      0.96     15045\n",
            "\n"
          ]
        }
      ],
      "source": [
        "# Define the hyperparameter grid for RandomizedSearchCV\n",
        "param_grid = {\n",
        "    'learning_rate': [0.01, 0.05, 0.1, 0.2, 0.3],\n",
        "    'n_estimators': [50, 100, 200, 400, 500],\n",
        "    'max_depth': [3, 5, 7, 9, 11],\n",
        "    'min_child_weight': [1, 2, 3, 4, 5],\n",
        "    'subsample': [0.7, 0.8, 0.9, 1.0],\n",
        "    'colsample_bytree': [0.7, 0.8, 0.9, 1.0],\n",
        "    'gamma': [0, 0.5, 1, 1.5, 2],\n",
        "    'reg_alpha': [0, 0.1, 0.5, 1, 10],\n",
        "    'reg_lambda': [0, 0.1, 0.5, 1, 10]\n",
        "}\n",
        "\n",
        "# Create an XGBoost classifier\n",
        "xgb_classifier = XGBClassifier()\n",
        "\n",
        "# Create RandomizedSearchCV object\n",
        "random_search = RandomizedSearchCV(xgb_classifier, param_distributions=param_grid,\n",
        "                                   n_iter=10, scoring='recall', cv=3, random_state=42)\n",
        "\n",
        "# Fit the model with hyperparameter tuning\n",
        "random_search.fit(X_train_tek, y_train_tek)\n",
        "\n",
        "# Get the best model\n",
        "best_xgb = random_search.best_estimator_\n",
        "\n",
        "# Make predictions on the test set\n",
        "y_pred_tek = best_xgb.predict(X_test_tek)\n",
        "\n",
        "# Evaluate the model\n",
        "accuracy_rboost = accuracy_score(y_test_tek, y_pred_tek)\n",
        "recall_rboost = recall_score(y_test_tek, y_pred_tek)\n",
        "f1_rboost = f1_score(y_test_tek, y_pred_tek)\n",
        "f2_rboost = fbeta_score(y_test_tek, y_pred_tek, beta=2)\n",
        "conf_matrix_boost = confusion_matrix(y_test_tek, y_pred_tek)\n",
        "\n",
        "print(f'Accuracy: {accuracy_rboost}')\n",
        "print(f'Recall : {recall_rboost}')\n",
        "print(f'F1 Score : {f1_rboost}')\n",
        "print(f'F2 Score : {f2_rboost}\\n')\n",
        "print(f'Confusion Matrix:\\n{conf_matrix_boost}')\n",
        "\n",
        "# Print classification report\n",
        "print(\"Classification Report:\")\n",
        "print(classification_report(y_test_tek, y_pred_tek))"
      ]
    },
    {
      "cell_type": "code",
      "execution_count": null,
      "metadata": {
        "colab": {
          "base_uri": "https://localhost:8080/"
        },
        "id": "T-2npIGXC7qe",
        "outputId": "8da3474d-292b-4960-b4d8-b0159aa09b6c"
      },
      "outputs": [
        {
          "data": {
            "text/plain": [
              "{'subsample': 0.7,\n",
              " 'reg_lambda': 0.5,\n",
              " 'reg_alpha': 1,\n",
              " 'n_estimators': 200,\n",
              " 'min_child_weight': 1,\n",
              " 'max_depth': 11,\n",
              " 'learning_rate': 0.2,\n",
              " 'gamma': 0.5,\n",
              " 'colsample_bytree': 0.7}"
            ]
          },
          "execution_count": 40,
          "metadata": {},
          "output_type": "execute_result"
        }
      ],
      "source": [
        "random_search.best_params_"
      ]
    },
    {
      "cell_type": "code",
      "execution_count": null,
      "metadata": {
        "colab": {
          "base_uri": "https://localhost:8080/",
          "height": 248
        },
        "id": "SwdTLSn-BYcq",
        "outputId": "d88fa913-d016-49a1-dd53-bba6a0ab04e8"
      },
      "outputs": [
        {
          "data": {
            "text/html": [
              "<style>#sk-container-id-3 {color: black;background-color: white;}#sk-container-id-3 pre{padding: 0;}#sk-container-id-3 div.sk-toggleable {background-color: white;}#sk-container-id-3 label.sk-toggleable__label {cursor: pointer;display: block;width: 100%;margin-bottom: 0;padding: 0.3em;box-sizing: border-box;text-align: center;}#sk-container-id-3 label.sk-toggleable__label-arrow:before {content: \"▸\";float: left;margin-right: 0.25em;color: #696969;}#sk-container-id-3 label.sk-toggleable__label-arrow:hover:before {color: black;}#sk-container-id-3 div.sk-estimator:hover label.sk-toggleable__label-arrow:before {color: black;}#sk-container-id-3 div.sk-toggleable__content {max-height: 0;max-width: 0;overflow: hidden;text-align: left;background-color: #f0f8ff;}#sk-container-id-3 div.sk-toggleable__content pre {margin: 0.2em;color: black;border-radius: 0.25em;background-color: #f0f8ff;}#sk-container-id-3 input.sk-toggleable__control:checked~div.sk-toggleable__content {max-height: 200px;max-width: 100%;overflow: auto;}#sk-container-id-3 input.sk-toggleable__control:checked~label.sk-toggleable__label-arrow:before {content: \"▾\";}#sk-container-id-3 div.sk-estimator input.sk-toggleable__control:checked~label.sk-toggleable__label {background-color: #d4ebff;}#sk-container-id-3 div.sk-label input.sk-toggleable__control:checked~label.sk-toggleable__label {background-color: #d4ebff;}#sk-container-id-3 input.sk-hidden--visually {border: 0;clip: rect(1px 1px 1px 1px);clip: rect(1px, 1px, 1px, 1px);height: 1px;margin: -1px;overflow: hidden;padding: 0;position: absolute;width: 1px;}#sk-container-id-3 div.sk-estimator {font-family: monospace;background-color: #f0f8ff;border: 1px dotted black;border-radius: 0.25em;box-sizing: border-box;margin-bottom: 0.5em;}#sk-container-id-3 div.sk-estimator:hover {background-color: #d4ebff;}#sk-container-id-3 div.sk-parallel-item::after {content: \"\";width: 100%;border-bottom: 1px solid gray;flex-grow: 1;}#sk-container-id-3 div.sk-label:hover label.sk-toggleable__label {background-color: #d4ebff;}#sk-container-id-3 div.sk-serial::before {content: \"\";position: absolute;border-left: 1px solid gray;box-sizing: border-box;top: 0;bottom: 0;left: 50%;z-index: 0;}#sk-container-id-3 div.sk-serial {display: flex;flex-direction: column;align-items: center;background-color: white;padding-right: 0.2em;padding-left: 0.2em;position: relative;}#sk-container-id-3 div.sk-item {position: relative;z-index: 1;}#sk-container-id-3 div.sk-parallel {display: flex;align-items: stretch;justify-content: center;background-color: white;position: relative;}#sk-container-id-3 div.sk-item::before, #sk-container-id-3 div.sk-parallel-item::before {content: \"\";position: absolute;border-left: 1px solid gray;box-sizing: border-box;top: 0;bottom: 0;left: 50%;z-index: -1;}#sk-container-id-3 div.sk-parallel-item {display: flex;flex-direction: column;z-index: 1;position: relative;background-color: white;}#sk-container-id-3 div.sk-parallel-item:first-child::after {align-self: flex-end;width: 50%;}#sk-container-id-3 div.sk-parallel-item:last-child::after {align-self: flex-start;width: 50%;}#sk-container-id-3 div.sk-parallel-item:only-child::after {width: 0;}#sk-container-id-3 div.sk-dashed-wrapped {border: 1px dashed gray;margin: 0 0.4em 0.5em 0.4em;box-sizing: border-box;padding-bottom: 0.4em;background-color: white;}#sk-container-id-3 div.sk-label label {font-family: monospace;font-weight: bold;display: inline-block;line-height: 1.2em;}#sk-container-id-3 div.sk-label-container {text-align: center;}#sk-container-id-3 div.sk-container {/* jupyter's `normalize.less` sets `[hidden] { display: none; }` but bootstrap.min.css set `[hidden] { display: none !important; }` so we also need the `!important` here to be able to override the default hidden behavior on the sphinx rendered scikit-learn.org. See: https://github.com/scikit-learn/scikit-learn/issues/21755 */display: inline-block !important;position: relative;}#sk-container-id-3 div.sk-text-repr-fallback {display: none;}</style><div id=\"sk-container-id-3\" class=\"sk-top-container\"><div class=\"sk-text-repr-fallback\"><pre>XGBClassifier(base_score=None, booster=None, callbacks=None,\n",
              "              colsample_bylevel=None, colsample_bynode=None,\n",
              "              colsample_bytree=0.7, device=None, early_stopping_rounds=None,\n",
              "              enable_categorical=False, eval_metric=None, feature_types=None,\n",
              "              gamma=0.5, grow_policy=None, importance_type=None,\n",
              "              interaction_constraints=None, learning_rate=0.2, max_bin=None,\n",
              "              max_cat_threshold=None, max_cat_to_onehot=None,\n",
              "              max_delta_step=None, max_depth=11, max_leaves=None,\n",
              "              min_child_weight=1, missing=nan, monotone_constraints=None,\n",
              "              multi_strategy=None, n_estimators=200, n_jobs=None,\n",
              "              num_parallel_tree=None, random_state=None, ...)</pre><b>In a Jupyter environment, please rerun this cell to show the HTML representation or trust the notebook. <br />On GitHub, the HTML representation is unable to render, please try loading this page with nbviewer.org.</b></div><div class=\"sk-container\" hidden><div class=\"sk-item\"><div class=\"sk-estimator sk-toggleable\"><input class=\"sk-toggleable__control sk-hidden--visually\" id=\"sk-estimator-id-3\" type=\"checkbox\" checked><label for=\"sk-estimator-id-3\" class=\"sk-toggleable__label sk-toggleable__label-arrow\">XGBClassifier</label><div class=\"sk-toggleable__content\"><pre>XGBClassifier(base_score=None, booster=None, callbacks=None,\n",
              "              colsample_bylevel=None, colsample_bynode=None,\n",
              "              colsample_bytree=0.7, device=None, early_stopping_rounds=None,\n",
              "              enable_categorical=False, eval_metric=None, feature_types=None,\n",
              "              gamma=0.5, grow_policy=None, importance_type=None,\n",
              "              interaction_constraints=None, learning_rate=0.2, max_bin=None,\n",
              "              max_cat_threshold=None, max_cat_to_onehot=None,\n",
              "              max_delta_step=None, max_depth=11, max_leaves=None,\n",
              "              min_child_weight=1, missing=nan, monotone_constraints=None,\n",
              "              multi_strategy=None, n_estimators=200, n_jobs=None,\n",
              "              num_parallel_tree=None, random_state=None, ...)</pre></div></div></div></div></div>"
            ],
            "text/plain": [
              "XGBClassifier(base_score=None, booster=None, callbacks=None,\n",
              "              colsample_bylevel=None, colsample_bynode=None,\n",
              "              colsample_bytree=0.7, device=None, early_stopping_rounds=None,\n",
              "              enable_categorical=False, eval_metric=None, feature_types=None,\n",
              "              gamma=0.5, grow_policy=None, importance_type=None,\n",
              "              interaction_constraints=None, learning_rate=0.2, max_bin=None,\n",
              "              max_cat_threshold=None, max_cat_to_onehot=None,\n",
              "              max_delta_step=None, max_depth=11, max_leaves=None,\n",
              "              min_child_weight=1, missing=nan, monotone_constraints=None,\n",
              "              multi_strategy=None, n_estimators=200, n_jobs=None,\n",
              "              num_parallel_tree=None, random_state=None, ...)"
            ]
          },
          "execution_count": 41,
          "metadata": {},
          "output_type": "execute_result"
        }
      ],
      "source": [
        "random_search.best_estimator_"
      ]
    },
    {
      "cell_type": "markdown",
      "metadata": {
        "id": "BI6m-7AZCeWn"
      },
      "source": [
        "#GridSearch"
      ]
    },
    {
      "cell_type": "code",
      "execution_count": null,
      "metadata": {
        "colab": {
          "background_save": true
        },
        "id": "kZiiGcFaofgB",
        "outputId": "0aae62ec-c4dd-4f03-ad1e-c196f670f4db"
      },
      "outputs": [
        {
          "name": "stdout",
          "output_type": "stream",
          "text": [
            "Accuracy: 0.9494184114323696\n",
            "Recall : 0.9109912339851652\n",
            "F1 Score : 0.9466750753275874\n",
            "F2 Score : 0.9249370139117099\n",
            "\n",
            "Confusion Matrix:\n",
            "[[7529  101]\n",
            " [ 660 6755]]\n",
            "Classification Report:\n",
            "              precision    recall  f1-score   support\n",
            "\n",
            "           0       0.92      0.99      0.95      7630\n",
            "           1       0.99      0.91      0.95      7415\n",
            "\n",
            "    accuracy                           0.95     15045\n",
            "   macro avg       0.95      0.95      0.95     15045\n",
            "weighted avg       0.95      0.95      0.95     15045\n",
            "\n"
          ]
        }
      ],
      "source": [
        "# Define the hyperparameter grid for RandomizedSearchCV\n",
        "# Define a smaller hyperparameter grid for GridSearchCV\n",
        "param_grid = {\n",
        "    'learning_rate': [0.01, 0.1],\n",
        "    'n_estimators': [100, 200],\n",
        "    'max_depth': [3, 5],\n",
        "    'subsample': [0.8, 1.0],\n",
        "    'colsample_bytree': [0.8, 1.0],\n",
        "    'min_child_weight': [1, 3],\n",
        "    'gamma': [0, 1],\n",
        "    'reg_alpha': [0, 0.1],\n",
        "    'reg_lambda': [0, 0.1]\n",
        "}\n",
        "\n",
        "# Create an XGBoost classifier\n",
        "xgb_classifier = XGBClassifier()\n",
        "\n",
        "# Create GridSearchCV object\n",
        "grid_search = GridSearchCV(xgb_classifier, param_grid=param_grid,\n",
        "                           scoring='accuracy', cv=3)\n",
        "\n",
        "# Fit the model with hyperparameter tuning\n",
        "grid_search.fit(X_train_tek, y_train_tek)\n",
        "\n",
        "# Get the best model\n",
        "best_xgb = grid_search.best_estimator_\n",
        "\n",
        "# Make predictions on the test set\n",
        "y_pred_tek = best_xgb.predict(X_test_tek)\n",
        "\n",
        "# Evaluate the model\n",
        "accuracy_rboost = accuracy_score(y_test_tek, y_pred_tek)\n",
        "recall_rboost = recall_score(y_test_tek, y_pred_tek)\n",
        "f1_rboost = f1_score(y_test_tek, y_pred_tek)\n",
        "f2_rboost = fbeta_score(y_test_tek, y_pred_tek, beta=2)\n",
        "conf_matrix_boost = confusion_matrix(y_test_tek, y_pred_tek)\n",
        "\n",
        "print(f'Accuracy: {accuracy_rboost}')\n",
        "print(f'Recall : {recall_rboost}')\n",
        "print(f'F1 Score : {f1_rboost}')\n",
        "print(f'F2 Score : {f2_rboost}\\n')\n",
        "print(f'Confusion Matrix:\\n{conf_matrix_boost}')\n",
        "\n",
        "# Print classification report\n",
        "print(\"Classification Report:\")\n",
        "print(classification_report(y_test_tek, y_pred_tek))"
      ]
    }
  ],
  "metadata": {
    "colab": {
      "provenance": [],
      "mount_file_id": "198sZOdztrjWOxuhgce0FjWRg8lFzSwGQ",
      "authorship_tag": "ABX9TyOB4WOQlZ7hxiANzWoeyBL4",
      "include_colab_link": true
    },
    "kernelspec": {
      "display_name": "Python 3",
      "name": "python3"
    },
    "language_info": {
      "name": "python"
    }
  },
  "nbformat": 4,
  "nbformat_minor": 0
}